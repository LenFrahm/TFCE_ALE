{
 "cells": [
  {
   "cell_type": "code",
   "execution_count": 1,
   "id": "objective-visitor",
   "metadata": {},
   "outputs": [],
   "source": [
    "import pandas as pd\n",
    "import numpy as np\n",
    "import re\n",
    "import h5py\n",
    "from utils.template import sample_space\n",
    "\n",
    "sigma = open(\"SD\", \"r\").read().splitlines()\n",
    "sigma = [float(number[:-4].strip()) for number in sigma]"
   ]
  },
  {
   "cell_type": "code",
   "execution_count": 2,
   "id": "7ca65090-c1ca-4ae1-af14-122efdcd003e",
   "metadata": {},
   "outputs": [],
   "source": [
    "df_21_normals = pd.read_csv(\"simon_func_mni_2021-April.txt\", sep=\"\\t\")\n",
    "df_21_normals = df_21_normals[df_21_normals[\"DIAGNOSES\"] == \"Normals\"].reset_index(drop=True)\n",
    "df_21_normals = df_21_normals.fillna(value='empty')\n",
    "\n",
    "#df_21_normals = df_21[df_21[\"DIAGNOSES\"] == \"Normals\"]\n",
    "lines_columns = ['Author', 'Subjects', 'ExpIndex']\n",
    "lines = pd.DataFrame(columns=lines_columns)\n",
    "lines[\"Author\"] = df_21_normals.loc[:,\"FIRST_AUTHOR\"]\n",
    "lines[\"Subjects\"] = df_21_normals.loc[:,\"MIN_SUBJ_TOT\"]\n",
    "lines = lines.reset_index(drop=True)\n",
    "\n",
    "cnt_exp = 0\n",
    "first_lines = [0]\n",
    "for i in range(lines.shape[0]):\n",
    "    if i > 0:\n",
    "        cnt_exp += 1\n",
    "        if (lines.loc[i, ['Author', 'Subjects']] == lines.loc[i-1, ['Author', 'Subjects']]).all():\n",
    "            if (df_21_normals.loc[i,\"STIMULUS_MODALITY\":\"AGE_CLASS\"] == df_21_normals.loc[i-1,\"STIMULUS_MODALITY\":\"AGE_CLASS\"]).all():\n",
    "                cnt_exp -= 1\n",
    "            else:\n",
    "                first_lines.append(i)\n",
    "        else:\n",
    "            first_lines.append(i)\n",
    "    lines.at[i, 'ExpIndex'] = cnt_exp\n",
    "\n",
    "num_exp = cnt_exp + 1\n",
    "\n",
    "exp_info = lines.loc[first_lines]\n",
    "exp_info = exp_info.drop(\"ExpIndex\", axis=1)\n",
    "exp_info[\"Foci\"] = np.unique(lines[\"ExpIndex\"], return_counts=True)[1]\n",
    "exp_info = exp_info.reset_index(drop=True)\n",
    "\n",
    "exp_info = exp_info[(exp_info[\"Foci\"] < 20) & (exp_info['Subjects'] > 8) &(exp_info['Subjects'] < 50)].reset_index(drop=True)"
   ]
  },
  {
   "cell_type": "code",
   "execution_count": 21,
   "id": "reported-rover",
   "metadata": {},
   "outputs": [],
   "source": [
    "df_19 = pd.read_csv(\"simon_func_mni_2019_Feb_19.txt\", sep=\"\\t\", header=None)\n",
    "df_19 = df_19[(df_19.loc[:,13].str.contains(\"Normal Mapping\")) & (df_19.loc[:,20] > 8) & (df_19.loc[:,20] < 50)].reset_index(drop=True)\n",
    "\n",
    "\n",
    "lines_columns = ['Author', 'Subjects', 'Cond', 'ExpIndex']\n",
    "lines = pd.DataFrame(columns=lines_columns)\n",
    "\n",
    "lines[\"Author\"] = df_19.loc[:,2]\n",
    "lines[\"Subjects\"] = df_19.loc[:,20]\n",
    "lines[\"Cond\"] = df_19.loc[:,6:17].to_string(header=False, index=False)\n",
    "\n",
    "cnt_exp = 0\n",
    "first_lines = [0]\n",
    "for i in range(lines.shape[0]):\n",
    "    if i > 0:\n",
    "        cnt_exp += 1\n",
    "        if (lines.loc[i, ['Author', 'Subjects', 'Cond']] == lines.loc[i-1, ['Author', 'Subjects', 'Cond']]).all():\n",
    "            cnt_exp -= 1\n",
    "        else:\n",
    "            first_lines.append(i)\n",
    "    lines.at[i, 'ExpIndex'] = cnt_exp\n",
    "\n",
    "num_exp = cnt_exp + 1\n",
    "\n",
    "exp_info = lines.loc[first_lines]\n",
    "exp_info = exp_info.drop(\"Cond\", axis=1).drop(\"ExpIndex\", axis=1)\n",
    "exp_info[\"Foci\"] = np.unique(lines[\"ExpIndex\"], return_counts=True)[1]\n",
    "exp_info = exp_info[exp_info[\"Foci\"] < 20].reset_index(drop=True)"
   ]
  },
  {
   "cell_type": "code",
   "execution_count": 3,
   "id": "wrong-bailey",
   "metadata": {
    "tags": []
   },
   "outputs": [],
   "source": [
    "true_coordinate = [60,50,65]\n",
    "with h5py.File(\"simulation_data_varying_offset_low.hdf5\", \"w\") as f:\n",
    "    for num_studies in [30]:\n",
    "        for true_activations in [2,3]:\n",
    "            for displacement in np.arange(0.1,1.1,0.1):\n",
    "                for rep in range(500):\n",
    "                    sample_sizes = []\n",
    "                    random_foci = []\n",
    "                    for i in range(num_studies):\n",
    "                        study_id = np.random.randint(exp_info.shape[0])\n",
    "                        sample_sizes.append(exp_info.loc[study_id, \"Subjects\"])\n",
    "                        num_foci = exp_info.loc[study_id, \"Foci\"]\n",
    "                        random_foci.append(sample_space[:,np.random.randint(0,sample_space.shape[1], num_foci)].T)\n",
    "                    for j in range(true_activations):\n",
    "                        displaced_coord = true_coordinate + (np.random.normal(size=(1,3)) * np.random.choice(sigma) * displacement)\n",
    "                        if displaced_coord[0,0] > 90:\n",
    "                            displaced_coord[0,0] = 90\n",
    "                        if displaced_coord[0,1] > 108:\n",
    "                            displaced_coord[0,1] = 108\n",
    "                        if displaced_coord[0,2] > 90:\n",
    "                            displaced_coord[0,2] = 90                        \n",
    "                        random_foci[j][0] = displaced_coord\n",
    "                    f.create_dataset(f\"{num_studies}/{true_activations}/{displacement}/{rep}/sample_sizes\", data=np.asarray(sample_sizes))\n",
    "                    for idx, arr in enumerate(random_foci):   \n",
    "                        f.create_dataset(f\"{num_studies}/{true_activations}/{displacement}/{rep}/foci/{idx}\", data=arr)\n"
   ]
  },
  {
   "cell_type": "code",
   "execution_count": 3,
   "id": "beneficial-rouge",
   "metadata": {},
   "outputs": [],
   "source": [
    "df = pd.read_csv(\"simon_func_mni_2019_Feb_19.txt\", sep=\"\\t\", header=None)\n",
    "df = df[(df.loc[:,13].str.contains(\"Normal Mapping\")) & (df.loc[:,20] > 8) & (df.loc[:,20] < 50)].reset_index(drop=True)\n",
    "\n",
    "lines_columns = ['Author', 'Subjects', 'Cond', 'ExpIndex']\n",
    "lines = pd.DataFrame(columns=lines_columns)\n",
    "\n",
    "lines[\"Author\"] = df.loc[:,2]\n",
    "lines[\"Subjects\"] = df.loc[:,20]\n",
    "lines[\"Cond\"] = df.loc[:,6:17].to_string(header=False, index=False)\n",
    "\n",
    "cnt_exp = 0\n",
    "first_lines = [0]\n",
    "for i in range(lines.shape[0]):\n",
    "    if i > 0:\n",
    "        cnt_exp += 1\n",
    "        if (lines.loc[i, ['Author', 'Subjects', 'Cond']] == lines.loc[i-1, ['Author', 'Subjects', 'Cond']]).all():\n",
    "            cnt_exp -= 1\n",
    "        else:\n",
    "            first_lines.append(i)\n",
    "    lines.at[i, 'ExpIndex'] = cnt_exp\n",
    "\n",
    "num_exp = cnt_exp + 1\n",
    "\n",
    "exp_info = lines.loc[first_lines]\n",
    "exp_info = exp_info.drop(\"Cond\", axis=1).drop(\"ExpIndex\", axis=1)\n",
    "exp_info[\"Foci\"] = np.unique(lines[\"ExpIndex\"], return_counts=True)[1]\n",
    "exp_info = exp_info[exp_info[\"Foci\"] < 20].reset_index(drop=True)\n",
    "\n",
    "sigma = open(\"SD\", \"r\").read().splitlines()\n",
    "sigma = [float(number[:-4].strip()) for number in sigma]\n",
    "\n",
    "true_coordinate = [60,50,65]\n",
    "with h5py.File(\"simulation_data_more_offset.hdf5\", \"w\") as f:\n",
    "    for num_studies in range(15,46):\n",
    "        for true_activations in range(10):\n",
    "            for rep in range(500):\n",
    "                sample_sizes = []\n",
    "                random_foci = []\n",
    "                for i in range(num_studies):\n",
    "                    study_id = np.random.randint(exp_info.shape[0])\n",
    "                    sample_sizes.append(exp_info.loc[study_id, \"Subjects\"])\n",
    "                    num_foci = exp_info.loc[study_id, \"Foci\"]\n",
    "                    random_foci.append(sample_space[:,np.random.randint(0,sample_space.shape[1], num_foci)].T)\n",
    "                for j in range(true_activations):\n",
    "                    random_foci[j][0] = true_coordinate + (np.random.normal(size=(1,3)) * np.random.choice(sigma) * 0.5)\n",
    "                f.create_dataset(f\"{num_studies}/{true_activations}/{rep}/sample_sizes\", data=np.asarray(sample_sizes))\n",
    "                for idx, arr in enumerate(random_foci):   \n",
    "                    f.create_dataset(f\"{num_studies}/{true_activations}/{rep}/foci/{idx}\", data=arr)"
   ]
  },
  {
   "cell_type": "code",
   "execution_count": 3,
   "id": "gentle-playlist",
   "metadata": {},
   "outputs": [],
   "source": [
    "true_coordinate = [60,50,65]\n",
    "with h5py.File(\"simulation_data_timing.hdf5\", \"w\") as f:\n",
    "    for num_studies in range(15,46):\n",
    "        for true_activations in [5]:\n",
    "            for rep in range(50):\n",
    "                sample_sizes = []\n",
    "                random_foci = []\n",
    "                for i in range(num_studies):\n",
    "                    study_id = np.random.randint(exp_info.shape[0])\n",
    "                    sample_sizes.append(exp_info.loc[study_id, \"Subjects\"])\n",
    "                    num_foci = exp_info.loc[study_id, \"Foci\"]\n",
    "                    random_foci.append(sample_space[:,np.random.randint(0,sample_space.shape[1], num_foci)].T)\n",
    "                for j in range(true_activations):\n",
    "                    random_foci[j][0] = true_coordinate + (np.random.normal(size=(1,3)) * np.random.choice(sigma) * 0.5)\n",
    "                f.create_dataset(f\"{num_studies}/{true_activations}/{rep}/sample_sizes\", data=np.asarray(sample_sizes))\n",
    "                for idx, arr in enumerate(random_foci):   \n",
    "                    f.create_dataset(f\"{num_studies}/{true_activations}/{rep}/foci/{idx}\", data=arr)"
   ]
  },
  {
   "cell_type": "code",
   "execution_count": 23,
   "id": "engaging-commitment",
   "metadata": {},
   "outputs": [],
   "source": [
    "true_coordinate = [60,50,65]\n",
    "with h5py.File(\"simulation_data_large_scale_2019.hdf5\", \"a\") as f:\n",
    "    for num_studies in [75,100,150]:\n",
    "        for true_activations in [0,1,2,3,4,5,6,7,8,9,10]:\n",
    "            for rep in range(512):\n",
    "                sample_sizes = []\n",
    "                random_foci = []\n",
    "                for i in range(num_studies):\n",
    "                    study_id = np.random.randint(exp_info.shape[0])\n",
    "                    sample_sizes.append(exp_info.loc[study_id, \"Subjects\"])\n",
    "                    num_foci = exp_info.loc[study_id, \"Foci\"]\n",
    "                    random_foci.append(sample_space[:,np.random.randint(0,sample_space.shape[1], num_foci)].T)\n",
    "                for j in range(true_activations):\n",
    "                    random_foci[j][0] = true_coordinate + (np.random.normal(size=(1,3)) * np.random.choice(sigma) * 0.5)\n",
    "                f.create_dataset(f\"{num_studies}/{true_activations}/{rep}/sample_sizes\", data=np.asarray(sample_sizes))\n",
    "                for idx, arr in enumerate(random_foci):   \n",
    "                    f.create_dataset(f\"{num_studies}/{true_activations}/{rep}/foci/{idx}\", data=arr)"
   ]
  },
  {
   "cell_type": "code",
   "execution_count": 13,
   "id": "b124e7a8-a17b-41da-822e-84e682c82a2c",
   "metadata": {},
   "outputs": [],
   "source": [
    "true_coordinate = [60,50,65]\n",
    "with h5py.File(\"simulation_data_large_scale_less_offset.hdf5\", \"a\") as f:\n",
    "    for num_studies in [75,100,150]:\n",
    "        for true_activations in [0,1,2,3,4,5,6,7,8,9,10]:\n",
    "            for rep in range(128):\n",
    "                sample_sizes = []\n",
    "                random_foci = []\n",
    "                for i in range(num_studies):\n",
    "                    study_id = np.random.randint(exp_info.shape[0])\n",
    "                    sample_sizes.append(exp_info.loc[study_id, \"Subjects\"])\n",
    "                    num_foci = exp_info.loc[study_id, \"Foci\"]\n",
    "                    random_foci.append(sample_space[:,np.random.randint(0,sample_space.shape[1], num_foci)].T)\n",
    "                for j in range(true_activations):\n",
    "                    random_foci[j][0] = true_coordinate + (np.random.normal(size=(1,3)) * np.random.choice(sigma) * 0.25)\n",
    "                f.create_dataset(f\"{num_studies}/{true_activations}/{rep}/sample_sizes\", data=np.asarray(sample_sizes))\n",
    "                for idx, arr in enumerate(random_foci):   \n",
    "                    f.create_dataset(f\"{num_studies}/{true_activations}/{rep}/foci/{idx}\", data=arr)"
   ]
  },
  {
   "cell_type": "code",
   "execution_count": 14,
   "id": "36d82328-a57a-41a8-8af7-d77a047d384d",
   "metadata": {},
   "outputs": [],
   "source": [
    "coord_list = []\n",
    "for i in range(1000):\n",
    "    coord_list.append(np.random.normal(size=(1,3)) * np.random.choice(sigma) * 0.5)\n",
    "\n",
    "coord_array = np.vstack(coord_list)\n",
    "max_distance = 0\n",
    "for coord in coord_array:\n",
    "    for coord2 in coord_array[1:]:\n",
    "        distance = np.linalg.norm((coord,coord2))\n",
    "        if distance > max_distance:\n",
    "            max_distance = distance"
   ]
  },
  {
   "cell_type": "code",
   "execution_count": 15,
   "id": "b1e34bb2-cee4-4301-9bd8-6337bdd4cfb8",
   "metadata": {},
   "outputs": [
    {
     "data": {
      "text/plain": [
       "10.467981279327288"
      ]
     },
     "execution_count": 15,
     "metadata": {},
     "output_type": "execute_result"
    }
   ],
   "source": [
    "max_distance"
   ]
  },
  {
   "cell_type": "code",
   "execution_count": 13,
   "id": "6298906a-66cb-4672-9dc9-b1fb4a19b214",
   "metadata": {},
   "outputs": [
    {
     "data": {
      "text/plain": [
       "5.494006195108819"
      ]
     },
     "execution_count": 13,
     "metadata": {},
     "output_type": "execute_result"
    }
   ],
   "source": [
    "max_distance"
   ]
  }
 ],
 "metadata": {
  "kernelspec": {
   "display_name": "Python 3 (ipykernel)",
   "language": "python",
   "name": "python3"
  },
  "language_info": {
   "codemirror_mode": {
    "name": "ipython",
    "version": 3
   },
   "file_extension": ".py",
   "mimetype": "text/x-python",
   "name": "python",
   "nbconvert_exporter": "python",
   "pygments_lexer": "ipython3",
   "version": "3.8.5"
  }
 },
 "nbformat": 4,
 "nbformat_minor": 5
}
